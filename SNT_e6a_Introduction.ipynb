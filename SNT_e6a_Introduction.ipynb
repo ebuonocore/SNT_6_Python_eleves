{
 "cells": [
  {
   "cell_type": "markdown",
   "metadata": {},
   "source": [
    "<div style=\"width:100%;border-collapse:separate;border:solid 2px;border-radius:14px;\">\n",
    "    <div style=\"display:flex;\">\n",
    "        <div style=\"display:inline;width:5%;\"></div>\n",
    "        <div style=\"display:inline;width:15%;\">SNT</div>\n",
    "        <div style=\"display:inline;width:15%;\">e6a</div>\n",
    "        <div style=\"display:inline;width:70%;text-align:right;\"><b>Programmation</b></div>\n",
    "        <div style=\"display:inline;width:5%;\"></div>\n",
    "    </div>\n",
    "    <div  style=\"display: flex;background-color:#EEE\">\n",
    "        <p style=\"width:100%;text-align:center;\">Langage Python</p>\n",
    "    </div>\n",
    "    <div  style=\"display: flex;\">\n",
    "        <p style=\"width:100%;text-align:center;\">Initiation</p>\n",
    "    </div>\n",
    "</div>"
   ]
  },
  {
   "cell_type": "markdown",
   "metadata": {},
   "source": [
    "<div class = \"alert alert-success\">\n",
    "    \n",
    "**Objectifs de la séquence:** \n",
    "    \n",
    "Nous allons voir comment utiliser un notebook et mettre en oeuvre les notions élémentaires du langage **Python**."
   ]
  },
  {
   "cell_type": "markdown",
   "metadata": {},
   "source": [
    "<div class = \"alert alert-info\">\n",
    "    \n",
    "**Sommaire :**\n",
    "\n",
    "- <a href=#Comment_utiliser_un_notebook>Comment utiliser un notebook</a>  \n",
    "- <a href=#Les_opérations>Les opérations</a>  \n",
    "- <a href=#Notion_de_variable>Notion de variable: Affectation et types</a>  \n",
    "- <a href=#Commenter_un_programme>Commenter un programme</a> \n",
    "- <a href=#Interactions_utilisateur>Interactions avec l'utilisateur: Entrées et sorties</a> "
   ]
  },
  {
   "cell_type": "markdown",
   "metadata": {
    "collapsed": true
   },
   "source": [
    "<div id=\"Comment_utiliser_un_notebook\"></div>\n",
    "\n",
    "# Comment utiliser un notebook\n",
    "\n",
    "Vous êtes actuellement en train de lire un notebook.  \n",
    "Ce document s'ouvre sur votre navigateur et il permet de marier des zones de texte et des zones de programme.  \n",
    "Vous reconnaitrez les zones de code car elles commencent par `Entrée [ ]:`  \n",
    "Pour exécuter ces codes, vous devrez placer votre curseur sur la case, puis appuyer sur la combinaison de touches **SHIFT+Entrée** ou cliquer sur le bouton **Exécuter** (dans la barre de menu en haut).\n",
    "![Bouton Exécuter](https://capytale.ac-paris.fr/pj/75/eric.buonocore/SNT_e6a_Bouton_Executer.png)\n",
    "\n",
    "En dessous, apparaitra alors le résultat de la dernière opération dans une nouvelle ligne commençant par `Out []:`\n",
    "\n",
    "Suite à un plantage par exemple ou une perte de connexion avec le serveur, il se peut que le notebook cesse de répondre.  \n",
    "Il vous est alors possible de relancer le **Noyau** en cliquant dans le menu `'Kernel'` sur le lien `'Restart'`\n",
    "\n",
    "![Relancer le noyau: Menu Kernel/Restart](https://capytale.ac-paris.fr/pj/75/eric.buonocore/SNT_e6a_Menu_Kernel_Restart.png)"
   ]
  },
  {
   "cell_type": "markdown",
   "metadata": {},
   "source": [
    "<div id=\"Les_opérations\"></div>\n",
    "\n",
    "## Les opérations de base\n",
    "\n",
    "Nous allons commencer par utiliser les zones de code comme une calculatrice et tester les opérations de base `+ -  *  /`.  \n",
    "\n",
    "Exécutez les zones ci-dessous:"
   ]
  },
  {
   "cell_type": "code",
   "execution_count": null,
   "metadata": {},
   "outputs": [],
   "source": [
    "2 * 5"
   ]
  },
  {
   "cell_type": "markdown",
   "metadata": {},
   "source": [
    "Modifiez la case ci-dessous pour effectuer le calcul ( 15 + 10 ) / 5  \n",
    "❗️ Si vous obtenez le résultat 17.0 c'est que vous avez oublié les parenthèses."
   ]
  },
  {
   "cell_type": "code",
   "execution_count": null,
   "metadata": {},
   "outputs": [],
   "source": [
    "15 + 10 / 5"
   ]
  },
  {
   "cell_type": "markdown",
   "metadata": {},
   "source": [
    "<div id=\"Notion_de_variable\"></div>\n",
    "\n",
    "## Notion de variable: Affectation et types\n",
    "\n",
    "Une variable désigne une zone mémoire où est stockée une information.  \n",
    "Cela peut être un nombre, un texte, une liste de notes...  \n",
    "Pour simplifier, on peut se représenter une variable comme un tiroir identifié par un nom (l'étiquette sur le tiroir), mais ce qui nous intéresse c'est ce qu'il y a dedans.\n",
    "\n",
    "Pour affecter une valeur à une variable on utilise le symbôle `=`.\n",
    "\n",
    "Exécutez les lignes suivantes:"
   ]
  },
  {
   "cell_type": "code",
   "execution_count": null,
   "metadata": {},
   "outputs": [],
   "source": [
    "a = 2"
   ]
  },
  {
   "cell_type": "code",
   "execution_count": null,
   "metadata": {},
   "outputs": [],
   "source": [
    "a + 20"
   ]
  },
  {
   "cell_type": "markdown",
   "metadata": {},
   "source": [
    "La première ligne a permis d'affecter la valeur 2 à la variable que l'on appelle `a`.\n",
    "![Affectation de la variable a](https://capytale.ac-paris.fr/pj/75/eric.buonocore/SNT_e6a_variable_a.png)\n",
    "\n",
    "A chaque fois que cette variable est appelée, le ligne du programme est exécutée en substituant le nom de la variable par sa valeur:\n",
    "`a + 20` est interprété comme `2 + 20` et renvoie donc la valeur `22`"
   ]
  },
  {
   "cell_type": "markdown",
   "metadata": {},
   "source": [
    "<div class = \"alert alert-danger\">\n",
    "    \n",
    "En mathématiques, l'équation $  a = a + 1$ n'a pas de solution.  \n",
    "En Python, cela revient à incrémenter la valeur de la variable `a`, c'est à dire ajouter 1:  \n",
    "Par exemple, si la variable `a` vaut initialement 2, on évalue le résultat de `a + 1`  \n",
    "Puis on l'affecte à `a`  \n",
    "`a + 1 → a`"
   ]
  },
  {
   "cell_type": "code",
   "execution_count": null,
   "metadata": {},
   "outputs": [],
   "source": [
    "a = a + 1\n",
    "a"
   ]
  },
  {
   "cell_type": "markdown",
   "metadata": {},
   "source": [
    "On peut ainsi changer les valeurs des variables en cours de route et en affecter de nouvelles."
   ]
  },
  {
   "cell_type": "code",
   "execution_count": null,
   "metadata": {},
   "outputs": [],
   "source": [
    "a = 5\n",
    "b = 8\n",
    "c = 7\n",
    "nom = \"Hopper\""
   ]
  },
  {
   "cell_type": "markdown",
   "metadata": {},
   "source": [
    "![Affectation de plusieurs variables](https://capytale.ac-paris.fr/pj/75/eric.buonocore/SNT_e6a_variables_abcnom.png)\n",
    "On peut alors les utiliser pour faire des opérations:"
   ]
  },
  {
   "cell_type": "code",
   "execution_count": null,
   "metadata": {},
   "outputs": [],
   "source": [
    "( b + c) / a"
   ]
  },
  {
   "cell_type": "markdown",
   "metadata": {},
   "source": [
    "Vous remarquez que toutes ces variables n'ont pas le même format.  \n",
    "On pourra envisager de faire l'opération `a + b` et on s'attend à ce que le résultat donne `13`.  \n",
    "Mais le résultat de `c + d` risque fort de générer une erreur!"
   ]
  },
  {
   "cell_type": "code",
   "execution_count": null,
   "metadata": {},
   "outputs": [],
   "source": [
    "a + b"
   ]
  },
  {
   "cell_type": "code",
   "execution_count": null,
   "metadata": {
    "scrolled": true
   },
   "outputs": [],
   "source": [
    "c + nom"
   ]
  },
  {
   "cell_type": "markdown",
   "metadata": {},
   "source": [
    "En effet, les variables sont typées.   \n",
    "Certaines sont des nombres entiers, d'autres des nombres à virgules, d'autres des chaînes de caractères.  \n",
    "Il est possible de demander qu'elle est le type d'une variable avec l'instruction `type()`.  "
   ]
  },
  {
   "cell_type": "code",
   "execution_count": null,
   "metadata": {},
   "outputs": [],
   "source": [
    "type(a)"
   ]
  },
  {
   "cell_type": "code",
   "execution_count": null,
   "metadata": {},
   "outputs": [],
   "source": [
    "type(b)"
   ]
  },
  {
   "cell_type": "code",
   "execution_count": null,
   "metadata": {},
   "outputs": [],
   "source": [
    "type(nom)"
   ]
  },
  {
   "cell_type": "code",
   "execution_count": null,
   "metadata": {},
   "outputs": [],
   "source": [
    "type ((b + c)/ a)"
   ]
  },
  {
   "cell_type": "markdown",
   "metadata": {},
   "source": [
    "En exécutant les lignes ci-dessus, vous pouvez voir certains des types disponibles en Python:\n",
    "- `str`: désigne une chaîne de caractères\n",
    "- `int`: désigne un nombre entier (sans virgule)\n",
    "- `float`: désigne un 'flottant', un nombre à virgule. Python fait une différence entre `3` et `3.0` 😮\n",
    "\n",
    "<div class = \"alert alert-danger\">\n",
    "    \n",
    "**Attention:** La partie entière et la partie décimale sont séparées par un **point** et non par une virgule !"
   ]
  },
  {
   "cell_type": "markdown",
   "metadata": {},
   "source": [
    "<div id=\"Commenter_un_programme\"></div>\n",
    "\n",
    "## Commenter un programme\n",
    "\n",
    "Lorsque vous allez commencer à faire de longs programmes, il deviendra important de laisser des commentaires pour vous repérer et pour que votre programme soit compréhensible par d'autres personnes.  \n",
    "Pour cela on utilise soit le caractère `#` pour indiquer le début d'un commentaire.  \n",
    "Soit les caractères `\"\"\"` pour ouvrir un commentaire sur plusieurs lignes, et la même série de caractères pour le fermer.   \n",
    "Voilà à quoi cela peut ressembler:"
   ]
  },
  {
   "cell_type": "code",
   "execution_count": null,
   "metadata": {},
   "outputs": [],
   "source": [
    "\"\"\" Je vais faire un super programme qui fait une opération.\n",
    "    ( 12 + 20 ) / ( 3 + 3)\n",
    "\"\"\"\n",
    "# J'initialie des variables\n",
    "a = 12 \n",
    "b = 20\n",
    "c = 3\n",
    "d = a + b # Je calcule d'abord (12 + 20) que j'affecte à la variable d\n",
    "# Puis je fais le calcul final\n",
    "d / ( c + c )"
   ]
  },
  {
   "cell_type": "markdown",
   "metadata": {},
   "source": [
    "<div class = \"alert alert-info\">\n",
    "Les commentaires ne sont pas interprétés. Ils ne sont là que pour être lus par des humains.</div>\n",
    "\n",
    "<div id=\"Interactions_utilisateur\"></div>\n",
    "\n",
    "## Interactions avec l'utilisateur\n",
    "Le but d'un programme est de traiter des données.  \n",
    "Ces données peuvent provenir de fichiers, de capteurs ou d'une action de l'utilisateur par exemple.  \n",
    "Nous allons voir comment nous pouvons poser une question à l'utilisateur et comment afficher un résulat grâce  aux instructions `input()` et `print()`.  \n",
    "Pour cela je reprends le programme de la page 144 de votre livre de SNT auquel j'ajoute quelques commentaires."
   ]
  },
  {
   "cell_type": "code",
   "execution_count": null,
   "metadata": {},
   "outputs": [],
   "source": [
    "# L'instruction input() affiche le texte entre parenthèse et attend une réponse de l'utilisateur\n",
    "nom = input(\"Bonjour, quel est votre nom? \\n\")\n",
    "# La réponse saisie est sauvegardée dans la variable 'nom'. \\n indique un retour à la ligne.\n",
    "# L'instruction print() affiche la chaîne de caractère comprise entre parenthèses.\n",
    "print (\"Echanté\", nom,\" je m'appelle computer et je vais devenir votre meilleur ami.\")\n",
    "# La construction de la répone affichée fait appel à la variable 'nom'"
   ]
  },
  {
   "cell_type": "code",
   "execution_count": null,
   "metadata": {},
   "outputs": [],
   "source": [
    "texte = \"Quel âge avez-vous \" + nom + \" ? \\n\"\n",
    "age = int (input(texte))\n",
    "print (\"J'en déduis que vous êtes né(e) en\", 2019 - age)"
   ]
  },
  {
   "cell_type": "markdown",
   "metadata": {},
   "source": [
    "<div class = \"alert alert-info\">\n",
    "Il ne vous reste plus qu'à finir le programme de la page 144 auquel j'ai ajouté des commentaires.  \n",
    "    \n",
    "Ajoutez les lignes de code et exécutez votre programme pour vérifier s'il fonctionne bien 😉"
   ]
  },
  {
   "cell_type": "code",
   "execution_count": null,
   "metadata": {},
   "outputs": [],
   "source": [
    "# L'instruction input() affiche le texte entre parenthèse et attend une réponse de l'utilisateur\n",
    "nom = input(\"Bonjour, quel est votre nom? \\n\")\n",
    "# La réponse saisie est sauvegardée dans la variable 'nom'\n",
    "# L'instruction print() affiche la chaîne de caractère comprise entre parenthèses.\n",
    "print (\"Echanté\", nom,\" je m'appelle computer et je vais devenir votre meilleur ami.\")\n",
    "# La construction de la répone affichée fait appel à la variable 'nom'\n",
    "texte = \"Quel âge avez-vous \" + nom + \" ? \\n\"\n",
    "age = int (input(texte))\n",
    "print (\"J'en déduis que vous êtes né(e) en\", 2019 - age)\n",
    "# On demande la taille en mètre par exemple 1.70\n",
    "# Attention 1,70 n'est pas accepté. Il faut mettre un point et non une virgule.\n",
    "\n",
    "# On affiche la différence par rapport à 40 cm\n",
    "\n"
   ]
  },
  {
   "cell_type": "markdown",
   "metadata": {},
   "source": [
    "---\n",
    "<p style=\"font-family:Comic Sans MS; text-align: center; color:gray; font-size: x-small; \">- Eric Buonocore. Mai 2020 -</p>\n",
    "\n",
    "![Licence CC BY NC SA](https://licensebuttons.net/l/by-nc-sa/3.0/88x31.png)\n"
   ]
  }
 ],
 "metadata": {
  "kernelspec": {
   "display_name": "Python 3",
   "language": "python",
   "name": "python3"
  },
  "language_info": {
   "codemirror_mode": {
    "name": "ipython",
    "version": 3
   },
   "file_extension": ".py",
   "mimetype": "text/x-python",
   "name": "python",
   "nbconvert_exporter": "python",
   "pygments_lexer": "ipython3",
   "version": "3.7.6"
  }
 },
 "nbformat": 4,
 "nbformat_minor": 1
}
