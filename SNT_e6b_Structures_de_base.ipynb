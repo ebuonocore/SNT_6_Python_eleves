{
 "cells": [
  {
   "cell_type": "markdown",
   "metadata": {},
   "source": [
    "<div style=\"width:100%;border-collapse:separate;border:solid 2px;border-radius:14px;\">\n",
    "    <div style=\"display:flex;\">\n",
    "        <div style=\"display:inline;width:5%;\"></div>\n",
    "        <div style=\"display:inline;width:15%;\">SNT</div>\n",
    "        <div style=\"display:inline;width:15%;\">e6b</div>\n",
    "        <div style=\"display:inline;width:70%;text-align:right;\"><b>Programmation</b></div>\n",
    "        <div style=\"display:inline;width:5%;\"></div>\n",
    "    </div>\n",
    "    <div  style=\"display: flex;background-color:#EEE\">\n",
    "        <p style=\"width:100%;text-align:center;\">Langage Python</p>\n",
    "    </div>\n",
    "    <div  style=\"display: flex;\">\n",
    "        <p style=\"width:100%;text-align:center;\">Structures de base: Sur les starting-blocks</p>\n",
    "    </div>\n",
    "</div>"
   ]
  },
  {
   "cell_type": "markdown",
   "metadata": {},
   "source": [
    "<div class = \"alert alert-success\">\n",
    "    \n",
    "**Objectifs de la séquence:** \n",
    "    \n",
    "Nous allons approfondir les connaissances sur les structures de base dans le langage **Python**.  \n",
    "A la fin de cette activité, vous serez capable de lire et de modifier un programme. </div>\n",
    "\n",
    "📔 Des indications de pages vous permettent de retrouver les notions traitées dans votre livre de SNT (Hatier Foucher - 2019)"
   ]
  },
  {
   "cell_type": "markdown",
   "metadata": {},
   "source": [
    "<div class = \"alert alert-info\">\n",
    "    \n",
    "**Sommaire :**\n",
    "\n",
    "- <a href=#UTF8>UTF-8: Le plein de caractères</a> \n",
    "- <a href=#Bibliothèques>Importer un module: `import`</a> \n",
    "- <a href=#Boucle_for>Les boucles bornées :`for` et l'indentation</a> \n",
    "- <a href=#Booléen>Booléen: Vrai ou faux</a>  \n",
    "- <a href=#if_elif_else>Les structures conditionnelles: `if/elif/else`</a> \n",
    "- <a href=#Boucles_non_bornées>Boucles non bornées: `while`</a> \n",
    "- <a href=#Fonction>Les fonctions: `def`</a> "
   ]
  },
  {
   "cell_type": "markdown",
   "metadata": {
    "collapsed": true
   },
   "source": [
    "![Starting block](https://github.com/ebuonocore/SNT_6_Python/blob/master/Notebook2/images/SNT_6_starting_block1.png?raw=true)\n",
    "<span style=\"font-family:Comic Sans MS; color:gray; font-size: x-small;float:right \">Source: \n",
    "<a href =\"https://www.flickr.com/photos/krissen\">Flickr - Kristian Niemi</a></span> \n",
    "\n",
    "<div class = \"alert alert-success\">\n",
    "    \n",
    "Nous allons programmer une course.  \n",
    "Les concurents seront représentés par des avatars: 🐌 🐍 🐸 🐹   \n",
    "Les progressions seront tirées au hasard.  </div>\n",
    "<div id=\"UTF8\"></div>\n",
    "\n",
    "# UTF-8: Le plein de caractères\n",
    "Il est possible d'afficher tous les caractères définis par la norme **UTF-8**.  \n",
    "Vous pouvez retrouver certains de ces caractères sur ce [site](https://apps.timwhitlock.info/emoji/tables/unicode#block-2-dingbats)  \n",
    "<div class = \"alert alert-info\">\n",
    "    \n",
    "Chaque caractère est désigné par un **point de code** de la forme U+ suivi d'un code.  </div>\n",
    "\n",
    "![UTF8](https://github.com/ebuonocore/SNT_6_Python/blob/master/Notebook2/images/SNT_6_UTF8.png?raw=true)\n",
    "Connaissant code d'un caractère (par exemple 26BD pour le ballon), la fonction `chr()` renvoie la représentation de ce caractère:"
   ]
  },
  {
   "cell_type": "code",
   "execution_count": null,
   "metadata": {},
   "outputs": [],
   "source": [
    "chr(0x26BD)"
   ]
  },
  {
   "cell_type": "markdown",
   "metadata": {},
   "source": [
    "Le code donné ici est sous sa représentation [hexadécimale](https://fr.wikiversity.org/wiki/Num%C3%A9ration_et_codage/Syst%C3%A8me_hexad%C3%A9cimal):  \n",
    "Cela veut dire que le nombre est représenté avec 16 chiffres : 0,1,2,3,4,5,6,7,8,9,A,B,C,D,E ou F.  \n",
    "Dans la fonction `chr` il faut alors précéder le code par les caractères `Ox`.  \n",
    "**Q1:** Modifiez le ligne suivante: Remplacez les ... pour afficher le bonhomme de neige:"
   ]
  },
  {
   "cell_type": "code",
   "execution_count": null,
   "metadata": {},
   "outputs": [],
   "source": [
    "chr(0x...)"
   ]
  },
  {
   "cell_type": "markdown",
   "metadata": {},
   "source": [
    "<div id=\"Bibliothèques\"></div>\n",
    "\n",
    "# Importer un module: `import` \n",
    "Un langage de programmation repose en partie sur un certain nombre de fonctions, comme `print` ou `input` par exemple.  \n",
    "<div class = \"alert alert-info\">\n",
    "    \n",
    "En plus des fonctions [\"natives\"](https://docs.python.org/fr/3.5/library/functions.html) qui composent le vocabulaire de base du langage, il est possible d'en ajouter d'autres.  \n",
    "Pour cela, il faut importer les modules (les bibliothèques) qui contiennent les fonctions qui nous intéressent. (📔 p157)  </div>\n",
    "Par exemple: pour pouvoir tirer un chiffre au hasard, il faut faire appel à la fonction `randint()` contenue dans la bibliothèque `random`."
   ]
  },
  {
   "cell_type": "code",
   "execution_count": null,
   "metadata": {},
   "outputs": [],
   "source": [
    "import random # Importation de la bibliothèque random\n",
    "\n",
    "un_nombre = random.randint(10,13) # J'ai le droit d'utiliser la fonction randint du module random\n",
    "un_nombre"
   ]
  },
  {
   "cell_type": "markdown",
   "metadata": {},
   "source": [
    "Vous noterez que l'appel de la fonction `randint` prend deux **paramètres**: ici 10 et 13 placés entre parenthèses et séparés par une virgule.  \n",
    "Relancez plusieurs fois la cellule précédente pour vérifier que la variable `un_nombre` prend bien aléatoirement des valeurs comprises entre 10 et 13.  \n",
    "**Q2:** Modifiez les ... du programme suivant pour tirer un nombre entre 1 et 6:"
   ]
  },
  {
   "cell_type": "code",
   "execution_count": null,
   "metadata": {},
   "outputs": [],
   "source": [
    "import random # Importation de la bibliothèque random\n",
    "\n",
    "un_nombre = random.randint(...)\n",
    "un_nombre"
   ]
  },
  {
   "cell_type": "markdown",
   "metadata": {},
   "source": [
    "<div id=\"Boucle_for\"></div>\n",
    "\n",
    "# Les boucles bornées :`for` et l'indentation\n",
    "\n",
    "<div class = \"alert alert-info\">\n",
    "    \n",
    "L'instruction `for` permet de répéter un bloc d'instructions en certain nombre de fois. (📔 p152)"
   ]
  },
  {
   "cell_type": "code",
   "execution_count": null,
   "metadata": {},
   "outputs": [],
   "source": [
    "for i in range(5):\n",
    "    print(\"J'en suis au nombre :\",i)"
   ]
  },
  {
   "cell_type": "markdown",
   "metadata": {},
   "source": [
    "`range(5)` correspond à la liste des 5 nombres de 0 à 4. (📔 p152)   \n",
    "Dans cette boucle, la variable `i` va prendre successivement les différentes valeurs de cette liste.  \n",
    "La ligne suivante `print(\"J'en suis au nombre :\",i)` est décalée de 4 espaces vers la droite: On dit qu'elle est **indentée**.  \n",
    "C'est cette instruction qui va se répéter pour chaque valeur de la variable `i`.  \n",
    "Les deux programmes suivants en Scratch et en Python sont équivalents: \n",
    "![Scratch_versus_Python](https://github.com/ebuonocore/SNT_6_Python/blob/master/Notebook2/images/SNT_6_scrtach_versus_python.png?raw=true)\n",
    "En Scratch, le bloc 'Répéter 10 fois' **englobe** les instructions soumisent à la répétition.  \n",
    "En Python, les instructions qui dépendent du `for` sont indentées."
   ]
  },
  {
   "cell_type": "code",
   "execution_count": null,
   "metadata": {},
   "outputs": [],
   "source": [
    "score = 0\n",
    "for i in range(5):\n",
    "    score = score + 1 # Cette instruction va se répéter\n",
    "    print(\"Encore un point de plus!\") # Celle-là aussi\n",
    "print(\"C'est fini\") # Mais pas celle-ci. Elle n'est pas indentée sous le for"
   ]
  },
  {
   "cell_type": "markdown",
   "metadata": {},
   "source": [
    "On souhaite tirer au hasard la distance parcouru par un concurent, puis afficher un nombre de points correspondant à la distance.  \n",
    "Remarque: `end=\"\"` dans la parenthèse du `print` permet de ne pas revenir à la ligne et d'écrire les caractères suivant juste après."
   ]
  },
  {
   "cell_type": "code",
   "execution_count": null,
   "metadata": {},
   "outputs": [],
   "source": [
    "import random\n",
    "\n",
    "# On tire au hasard la distance parcourue par le concurent 1\n",
    "position_joueur1 = random.randint(1,10)\n",
    "print(\"Piste 1:\", end=\"\") # On affiche l'entête de la piste 1\n",
    "for point in range(position_joueur1): # On affiche nombre de points correspondant à la distance.\n",
    "    print(\".\",end=\"\")\n",
    "print (chr(0x1F40C)) # On affiche l'avatar  du concurent 1"
   ]
  },
  {
   "cell_type": "markdown",
   "metadata": {},
   "source": [
    "Relancez plusieurs fois le programme précédent.\n",
    "\n",
    "**Q3:** Modifiez le programme suivant: Remplacez les `...` pour faire apparaitre le concurent 2 sur la piste 2 avec un autre avatar que l'escargot :"
   ]
  },
  {
   "cell_type": "code",
   "execution_count": null,
   "metadata": {},
   "outputs": [],
   "source": [
    "import random\n",
    "\n",
    "# On tire au hasard la distance parcourue par le concurent 1\n",
    "position_joueur1 = random.randint(1,10)\n",
    "print(\"Piste 1:\", end=\"\") # On affiche l'entête de la piste 1\n",
    "for point in range(position_joueur1): # On affiche nombre de points correspondant à la distance.\n",
    "    print(\".\",end=\"\")\n",
    "print (chr(0x1F40C)) # On affiche l'avatar  du concurent 1\n",
    "\n",
    "# On tire au hasard la distance parcourue par le concurent 2\n",
    "position_joueur... = random.randint(1,10)\n",
    "print(\"Piste ...:\", end=\"\") # On affiche l'entête de la piste 2\n",
    "for point in range(position_joueur...):  # On affiche nombre de points correspondant à la distance.\n",
    "    print(\".\",end=\"\")\n",
    "print (chr(0x...)) # On affiche l'avatar du concurent 2"
   ]
  },
  {
   "cell_type": "markdown",
   "metadata": {},
   "source": [
    "<div id=\"Booléen\"></div>\n",
    "\n",
    "# Booléen: Vrai ou faux\n",
    "Dans le cours précédent, nous avions vu les types **int** (les entiers), **float** (les nombres décimaux) et **str** (les chaînes de caractères). (📔 p144)"
   ]
  },
  {
   "cell_type": "markdown",
   "metadata": {},
   "source": [
    "<div class = \"alert alert-info\">\n",
    "\n",
    "Il existe un autre type: **bool**  pour les booléens.  \n",
    "Un booléen ne peut avoir que 2 valeurs possibles: Vrai (`True`) ou Faux (`False`).  </div>\n",
    "Ainsi, les propositions suivantes renvoient un booléen: "
   ]
  },
  {
   "cell_type": "code",
   "execution_count": null,
   "metadata": {},
   "outputs": [],
   "source": [
    "3 > 2"
   ]
  },
  {
   "cell_type": "code",
   "execution_count": null,
   "metadata": {},
   "outputs": [],
   "source": [
    "taille_de_Gégé = 1.65 # Cette variable est du type 'float'\n",
    "taille_de_Bernard = 1.73 # Cette variable est du type 'float' aussi\n",
    "taille_de_Gégé  == taille_de_Bernard # Est-ce qu'ils font la même taille ? Cela renvoie un booléen"
   ]
  },
  {
   "cell_type": "markdown",
   "metadata": {},
   "source": [
    "<div class = \"alert alert-danger\">\n",
    "\n",
    "On  utilise le symbôle `=` pour affecter une valeur à une variable.    \n",
    "Mais `==` permet de **tester une égalité**.  "
   ]
  },
  {
   "cell_type": "code",
   "execution_count": null,
   "metadata": {},
   "outputs": [],
   "source": [
    "mon_annee_de_naissance = 1918 # Cette variable est du type 'int'\n",
    "mon_annee_de_naissance # On a affecté la valeur 1918 à cette variable"
   ]
  },
  {
   "cell_type": "code",
   "execution_count": null,
   "metadata": {},
   "outputs": [],
   "source": [
    "mon_annee_de_naissance == 1918 # On teste si la variable vaut 1918."
   ]
  },
  {
   "cell_type": "markdown",
   "metadata": {},
   "source": [
    "**Q4:** Dans la cellule suivante, proposez un test qui renvoie `False`"
   ]
  },
  {
   "cell_type": "code",
   "execution_count": null,
   "metadata": {},
   "outputs": [],
   "source": []
  },
  {
   "cell_type": "markdown",
   "metadata": {},
   "source": [
    "<div id=\"if_elif_else\"></div>\n",
    "\n",
    "# Les structures conditionnelles: `if/elif/else`\n",
    "Nous souhaitons maintenant désigner le vainqueur.  \n",
    "Il faut comparer les positions des 2 concurents.  \n",
    "Pour faire des tests, nous allons utiliser la structure `if/else` que nous pouvons traduire par **Si...Sinon** (📔 p149)"
   ]
  },
  {
   "cell_type": "code",
   "execution_count": null,
   "metadata": {},
   "outputs": [],
   "source": [
    "import random\n",
    "\n",
    "position_joueur1 = random.randint(1,5)\n",
    "print(\"Distance parcourue par le premier joueur :\", position_joueur1)\n",
    "position_joueur2 = random.randint(1,5)\n",
    "print(\"Distance parcourue par le second joueur :\", position_joueur2)\n",
    "\n",
    "if position_joueur1 > position_joueur2: # Si le joueur 1 est devant\n",
    "    print(\"Le joueur 1 a gagné !\") \n",
    "else: # Sinon\n",
    "    print(\"Le joueur 2 a gagné !\")"
   ]
  },
  {
   "cell_type": "markdown",
   "metadata": {},
   "source": [
    "Rejouez plusieurs fois le programme précédent.  \n",
    "Vous remarquerez qu'il ne fonctionne pas en cas d'égalité.  \n",
    "Le mot clé `elif` va nous permettre de cumuler des tests successifs. (📔 p151)"
   ]
  },
  {
   "cell_type": "code",
   "execution_count": null,
   "metadata": {},
   "outputs": [],
   "source": [
    "import random\n",
    "\n",
    "position_joueur1 = random.randint(1,5)\n",
    "print(\"Distance parcourue par le premier joueur :\", position_joueur1)\n",
    "position_joueur2 = random.randint(1,5)\n",
    "print(\"Distance parcourue par le second joueur :\", position_joueur2)\n",
    "\n",
    "if position_joueur1 > position_joueur2: # Si le joueur 1 est devant\n",
    "    print(\"Le joueur 1 a gagné !\") \n",
    "elif position_joueur1 == position_joueur2: # Si les deux joueurs sont au même endroit\n",
    "    print(\"Egalité\")\n",
    "else: # Sinon: Le joueur 1 n'est pas devant et il n'y a pas égalité, donc...\n",
    "    print(\"Le joueur 2 a gagné !\") # ... c'est forcément le joueur 2 qui a gagné"
   ]
  },
  {
   "cell_type": "markdown",
   "metadata": {},
   "source": [
    "On peut même être plus précis en prenant en compte l'écart entre les deux joueurs.  \n",
    "Rejouez plusieurs le programme ci-dessous pour vérifier les différents cas de figure."
   ]
  },
  {
   "cell_type": "code",
   "execution_count": null,
   "metadata": {},
   "outputs": [],
   "source": [
    "import random\n",
    "\n",
    "position_joueur1 = random.randint(1,5)\n",
    "print(\"Distance parcourue par le premier joueur :\", position_joueur1)\n",
    "position_joueur2 = random.randint(1,5)\n",
    "print(\"Distance parcourue par le second joueur :\", position_joueur2)\n",
    "\n",
    "if position_joueur1 > position_joueur2 + 1: # Si le joueur 1 est devant d'au moins deux cases\n",
    "    print(\"Le joueur 1 a largement gagné !\") \n",
    "elif position_joueur1 == position_joueur2 + 1: # Si le joueur 1 est devant juste d'une case\n",
    "    print(\"Le joueur 1 a gagné. Tout juste.\") \n",
    "elif position_joueur2 == position_joueur1 + 1: # Si le joueur 2 est devant juste d'une case\n",
    "    print(\"Le joueur 1 a gagné. Tout juste.\") \n",
    "elif position_joueur2 > position_joueur1 + 1: # Si le joueur 2 est devant d'au moins deux cases\n",
    "    print(\"Le joueur 2 a largement gagné !\")     \n",
    "else: # Sinon:aucun des cas précédent n'est vrai donc il y a égalité\n",
    "    print(\"Egalité !\")"
   ]
  },
  {
   "cell_type": "markdown",
   "metadata": {},
   "source": [
    "<div id=\"Boucle_non_bornée\"></div>\n",
    "\n",
    "# Boucles non bornées: `while`\n",
    "Les participants vont maintenant avancer de 1 à 3 cases chacun, jusqu'à l'un d'eux au moins franchisse la limite de 20 cases.  \n",
    "Pour cela nous allons utiliser la structure `while` qui signifie **Tant que** (📔 p153)"
   ]
  },
  {
   "cell_type": "code",
   "execution_count": null,
   "metadata": {},
   "outputs": [],
   "source": [
    "point_de_code = 0x2654 #  Initialisation de la variable\n",
    "while (point_de_code < 0x2660): # Tant que le point de code reste inférieur à 0x2660\n",
    "    print(chr(point_de_code), end=\" \") # On affiche le point de code correspondant\n",
    "    point_de_code = point_de_code + 1 # On passe au point de code suivant"
   ]
  },
  {
   "cell_type": "markdown",
   "metadata": {},
   "source": [
    "<div class = \"alert alert-danger\">\n",
    "\n",
    "Il faut être vigilant avec la structure `while`, car contrairement à la structure de boucle avec  `for`, cette boucle peut ne jamais se terminer.  \n",
    "Il faut donc veiller à ce que la condition du `while` puisse devenir **Vraie** un jour..."
   ]
  },
  {
   "cell_type": "code",
   "execution_count": null,
   "metadata": {},
   "outputs": [],
   "source": [
    "import random\n",
    "\n",
    "position_joueur1 = 0 # On initialise les positions des deux joueurs: Sur la ligne de départ.\n",
    "position_joueur2 = 0\n",
    "while (position_joueur1<20 or position_joueur2<20): # Tant que le joueur 1 ou le 2 sont avant l'arrivée\n",
    "    position_joueur1 = position_joueur1 + random.randint(1,3) # Le joueur 1 avance de 1 à 3 cases\n",
    "    position_joueur2 = position_joueur2 + random.randint(1,3) # Le joueur 2 avance de 1 à 3 cases\n",
    "# Si nous sommes sortis de cette boucle, c'est qu'au moins un des concurents a dépassé la ligne.\n",
    "\n",
    "print(\"Piste 1:\", end=\"\") # On affiche le parcours du joueur 1\n",
    "for point in range(position_joueur1):\n",
    "    print(\".\",end=\"\")\n",
    "print (chr(0x1F438))\n",
    "\n",
    "print(\"Piste 2:\", end=\"\") # On affiche le parcours du joueur 2\n",
    "for point in range(position_joueur2):\n",
    "    print(\".\",end=\"\")\n",
    "print (chr(0x1F439)) \n",
    "\n",
    "# Tests pour déclarer le vainqueur\n",
    "if position_joueur1 > position_joueur2:\n",
    "    print(\"Le joueur 1 a gagné\")\n",
    "elif position_joueur2 > position_joueur1:\n",
    "    print(\"Le joueur 2 a gagné\")\n",
    "else:\n",
    "    print(\"Egalité !\")    \n"
   ]
  },
  {
   "cell_type": "markdown",
   "metadata": {},
   "source": [
    "**Q5 Votre mission:** Si vous arrivez à bien vous repérer dans le programme qui commence à être long, essayez de faire les modifications suivantes:\n",
    "- Le joueur 2 coure plus vite: Il avance de 1 à 4 cases à chaque tour de jeu.\n",
    "- La ligne d'arrivée n'est pas à la 20ème case mais à la 30ème (pour les 2 participants bien sûr)\n",
    "- changez les avatars"
   ]
  },
  {
   "cell_type": "markdown",
   "metadata": {},
   "source": [
    "<div id=\"Fonction\"></div>\n",
    "\n",
    "# Les fonctions: `def`\n",
    "Plusieurs lignes de codes se ressemblent beaucoup à quelques variables prêts.  \n",
    "Les définitions de fonctions vont nous permettre de clarifier le programme. (📔 p154) \n",
    "\n",
    "Pour ne pas avoir à recopier à chaque fois les deux lignes:  \n",
    "`for point in range(position_joueur_x):\n",
    "    print(\".\",end=\"\")`\n",
    "    \n",
    "Je vais créer la fonction `affiche_piste(position)`.  \n",
    "Lorsqu'elle sera appelée par notre programme, elle affichera un nombre de points correspondant à la valeur du paramètre placé entre parenthèses.  \n",
    "Par exemple: `affiche_piste(4)`  produira l'affichage de `....`  \n",
    "ou encore, `affiche_piste(8)`  produira l'affichage de `........`"
   ]
  },
  {
   "cell_type": "code",
   "execution_count": null,
   "metadata": {},
   "outputs": [],
   "source": [
    "import random\n",
    "\n",
    "# Ici, nous définissons toutes les fonctions dont nous allons avoir besoin dans le programme\n",
    "def affiche_piste(position):\n",
    "    # Les instructions qui participent à la définition de la foncton sont indentées sous le def\n",
    "    \"\"\" La fonction affiche_piste prend en entier en paramètre: la variable position\n",
    "        On affiche un nombre de points successifs correspondant à la valeur de la variable position\n",
    "    \"\"\"\n",
    "    for point in range(position):\n",
    "        print(\".\",end=\"\")\n",
    "     # Fin de la définition de la fonction\n",
    "    \n",
    "# Le programme commence vraiment ici\n",
    "position_joueur1 = 0 # On initialise les positions des deux joueurs: Sur la ligne de départ.\n",
    "position_joueur2 = 0\n",
    "while (position_joueur1<20 or position_joueur2<20): # Tant que les 2 joueurs sont avant l'arrivée\n",
    "    position_joueur1 = position_joueur1 + random.randint(1,3) # Le joueur 1 avance de 1 à 3 cases\n",
    "    position_joueur2 = position_joueur2 + random.randint(1,3) # Le joueur 2 avance de 1 à 3 cases\n",
    "    \n",
    "print(\"Piste 1:\", end=\"\") # On affiche le parcours du joueur 1\n",
    "affiche_piste(position_joueur1) # L'affichage des points est géré par le fonction définie plus haut\n",
    "print (chr(0x1F438))\n",
    "\n",
    "print(\"Piste 2:\", end=\"\") # On affiche le parcours du joueur 2\n",
    "affiche_piste(position_joueur2) # Second appel de la fonction affiche_piste pour afficher les points\n",
    "print (chr(0x1F439)) \n",
    "  \n",
    "if position_joueur1 > position_joueur2:\n",
    "    print(\"Le joueur 1 a gagné\")\n",
    "elif position_joueur2 > position_joueur1:\n",
    "    print(\"Le joueur 2 a gagné\")\n",
    "else:\n",
    "    print(\"Egalité !\")"
   ]
  },
  {
   "cell_type": "markdown",
   "metadata": {},
   "source": [
    "On ne peut pas dire que la création de cette fonction nous ait fait gagner beaucoup de lignes de codes.  \n",
    "Nous pouvons faire mieux en créant la fonction `trace` qui prendra 3 paramètres.  \n",
    "Cette fonction va réellement nous permettre de compacter le code."
   ]
  },
  {
   "cell_type": "code",
   "execution_count": null,
   "metadata": {},
   "outputs": [],
   "source": [
    "import random\n",
    "ARRIVEE = 20 # On utilise une constante ici. La valeur d'ARRIVEE ne changera pas au cours du programme \n",
    "\n",
    "def trace(piste,position,personnage):\n",
    "    \"\"\" Cette fonction prend 3 entiers en paramètres:\n",
    "        piste: numéro de la piste\n",
    "        position: position finale du participant à la fin de la course\n",
    "        personnage: point de code de l'avatar à afficher\n",
    "    \"\"\"\n",
    "    print(\"Piste \",piste,\":\", end=\"\") # On affiche l'entête de la piste\n",
    "    for point in range(position): # On affiche les points correspondants à la distance parcourue\n",
    "        print(\".\",end=\"\")\n",
    "    print(chr(personnage)) # On affiche l'avatar\n",
    "\n",
    "position_joueur1 = 0 # Initialisations au début de la course: Tout le monde dans les staring-blocks\n",
    "position_joueur2 = 0  \n",
    "while (position_joueur1<ARRIVEE or position_joueur2<ARRIVEE): # Tant que personne n'a dépassé la ligne\n",
    "    position_joueur1 = position_joueur1 + random.randint(1,3) # Joueur 1 avance\n",
    "    position_joueur2 = position_joueur2 + random.randint(1,3) # Joueur 2 avance\n",
    "    \n",
    "trace(1,position_joueur1,0x1F438) # On affiche l'entête de la piste et le parcours du joueur 1\n",
    "trace(2,position_joueur2,0x1F439) # On affiche l'entête de la piste et le parcours du joueur 2\n",
    "\n",
    "# On affiche le résultat de la course\n",
    "if position_joueur1 > position_joueur2:\n",
    "    print(\"Le joueur 1 a gagné\")\n",
    "elif position_joueur2 > position_joueur1:\n",
    "    print(\"Le joueur 2 a gagné\")\n",
    "else:\n",
    "    print(\"Egalité\")"
   ]
  },
  {
   "cell_type": "markdown",
   "metadata": {},
   "source": [
    "**Q6 Mission ultime :** Si vous avez tout compris, vous serez capable dans le code suivant de:  \n",
    "- La ligne d'arrivée est à la 30ème case\n",
    "- ajouter un troisième concurent\n",
    "- jouer sur les paramètres du tirage au sort pour faire courir un joueur plus vite\n",
    "- gérer les tests de positions entre les 3 joueurs pour désigner le vainqueur  \n",
    "\n",
    "Pour alléger le programme, je ne laisse ci-dessous que les commentaires pour vous guider. \n",
    "Il faut mettre le code correct à la place des ..."
   ]
  },
  {
   "cell_type": "code",
   "execution_count": null,
   "metadata": {},
   "outputs": [],
   "source": [
    "import random\n",
    "ARRIVEE = ... # Position de la ligne d'arrivée\n",
    "\n",
    "def trace(piste,position,personnage):\n",
    "    print(\"Piste \",piste,\":\", end=\"\") \n",
    "    for point in range(position): \n",
    "        print(\".\",end=\"\")\n",
    "    print(chr(personnage))\n",
    "\n",
    "position_joueur1 = 0\n",
    "position_joueur2 = 0\n",
    "... # Initialisation de la position du joueur 3\n",
    "while (position_joueur1<ARRIVEE or position_joueur2<ARRIVEE or ...): # Il faut tester si le joueur 3 a gagné\n",
    "    position_joueur1 = position_joueur1 + random.randint(1,3) \n",
    "    position_joueur2 = position_joueur2 + random.randint(1,3) \n",
    "    ... # Joueur 3 avance\n",
    "    \n",
    "trace(1,position_joueur1,0x1F438) # On affiche l'entête de la piste et le parcours du joueur 1\n",
    "trace(2,position_joueur2,0x1F439) # On affiche l'entête de la piste et le parcours du joueur 2\n",
    "... # On affiche l'entête de la piste et le parcours du joueur 2\n",
    "\n",
    "# Le joueur 1 gagne s'il devance le joueur 2 ET le 3\n",
    "if position_joueur1 > position_joueur2 and position_joueur1 > position_joueur3 : \n",
    "    print(\"Le joueur 1 a gagné\")\n",
    "elif position_joueur2 > position_joueur1 and ...: # Le joueur 2 gagne s'il devance le joueur 1 ET le 3\n",
    "    print(\"Le joueur 2 a gagné\")\n",
    "elif position_joueur3 > position_joueur1 and ...: # Le joueur 3 gagne s'il devance le joueur 1 ET le 2\n",
    "    print(\"Le joueur 3 a gagné\")\n",
    "else:\n",
    "    print(\"Egalité\")"
   ]
  },
  {
   "cell_type": "markdown",
   "metadata": {},
   "source": [
    "---\n",
    "<p style=\"font-family:Comic Sans MS; text-align: center; color:gray; font-size: x-small; \">- Eric Buonocore. Mai 2020 -</p>\n",
    "\n",
    "![Licence CC BY NC SA](https://licensebuttons.net/l/by-nc-sa/3.0/88x31.png)\n"
   ]
  }
 ],
 "metadata": {
  "kernelspec": {
   "display_name": "Python 3",
   "language": "python",
   "name": "python3"
  },
  "language_info": {
   "codemirror_mode": {
    "name": "ipython",
    "version": 3
   },
   "file_extension": ".py",
   "mimetype": "text/x-python",
   "name": "python",
   "nbconvert_exporter": "python",
   "pygments_lexer": "ipython3",
   "version": "3.7.3"
  }
 },
 "nbformat": 4,
 "nbformat_minor": 1
}
